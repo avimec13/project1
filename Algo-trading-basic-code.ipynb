{
  "nbformat": 4,
  "nbformat_minor": 0,
  "metadata": {
    "colab": {
      "name": "Untitled2.ipynb",
      "provenance": [],
      "collapsed_sections": [],
      "authorship_tag": "ABX9TyOV9ix2MXTRbcFsrfAbIykh",
      "include_colab_link": true
    },
    "kernelspec": {
      "name": "python3",
      "display_name": "Python 3"
    }
  },
  "cells": [
    {
      "cell_type": "markdown",
      "metadata": {
        "id": "view-in-github",
        "colab_type": "text"
      },
      "source": [
        "<a href=\"https://colab.research.google.com/github/avimec13/project1/blob/master/Algo-trading-basic-code.ipynb\" target=\"_parent\"><img src=\"https://colab.research.google.com/assets/colab-badge.svg\" alt=\"Open In Colab\"/></a>"
      ]
    },
    {
      "cell_type": "code",
      "metadata": {
        "id": "0xBRQ0t9f42V"
      },
      "source": [
        "import requests\n",
        "import pandas as pd\n",
        "import datetime as dt\n",
        "from bs4 import BeautifulSoup\n",
        "import yfinance as yf\n",
        "import matplotlib as mt"
      ],
      "execution_count": 51,
      "outputs": []
    },
    {
      "cell_type": "code",
      "metadata": {
        "colab": {
          "base_uri": "https://localhost:8080/"
        },
        "id": "6lTaK5iNIvAQ",
        "outputId": "60fde7f5-429f-404a-f710-f66fc84000dc"
      },
      "source": [
        "pip install yfinance"
      ],
      "execution_count": 15,
      "outputs": [
        {
          "output_type": "stream",
          "text": [
            "Requirement already satisfied: yfinance in /usr/local/lib/python3.6/dist-packages (0.1.55)\n",
            "Requirement already satisfied: requests>=2.20 in /usr/local/lib/python3.6/dist-packages (from yfinance) (2.23.0)\n",
            "Requirement already satisfied: numpy>=1.15 in /usr/local/lib/python3.6/dist-packages (from yfinance) (1.18.5)\n",
            "Requirement already satisfied: pandas>=0.24 in /usr/local/lib/python3.6/dist-packages (from yfinance) (1.1.4)\n",
            "Requirement already satisfied: lxml>=4.5.1 in /usr/local/lib/python3.6/dist-packages (from yfinance) (4.6.2)\n",
            "Requirement already satisfied: multitasking>=0.0.7 in /usr/local/lib/python3.6/dist-packages (from yfinance) (0.0.9)\n",
            "Requirement already satisfied: idna<3,>=2.5 in /usr/local/lib/python3.6/dist-packages (from requests>=2.20->yfinance) (2.10)\n",
            "Requirement already satisfied: urllib3!=1.25.0,!=1.25.1,<1.26,>=1.21.1 in /usr/local/lib/python3.6/dist-packages (from requests>=2.20->yfinance) (1.24.3)\n",
            "Requirement already satisfied: chardet<4,>=3.0.2 in /usr/local/lib/python3.6/dist-packages (from requests>=2.20->yfinance) (3.0.4)\n",
            "Requirement already satisfied: certifi>=2017.4.17 in /usr/local/lib/python3.6/dist-packages (from requests>=2.20->yfinance) (2020.11.8)\n",
            "Requirement already satisfied: python-dateutil>=2.7.3 in /usr/local/lib/python3.6/dist-packages (from pandas>=0.24->yfinance) (2.8.1)\n",
            "Requirement already satisfied: pytz>=2017.2 in /usr/local/lib/python3.6/dist-packages (from pandas>=0.24->yfinance) (2018.9)\n",
            "Requirement already satisfied: six>=1.5 in /usr/local/lib/python3.6/dist-packages (from python-dateutil>=2.7.3->pandas>=0.24->yfinance) (1.15.0)\n"
          ],
          "name": "stdout"
        }
      ]
    },
    {
      "cell_type": "code",
      "metadata": {
        "id": "p7986V9ugU-_"
      },
      "source": [
        "url = \"https://in.finance.yahoo.com/quote/SBIN.NS/balance-sheet?p=SBIN.NS\"\n",
        "page = requests.get(url)\n",
        "page_content = page.content\n",
        "soup = BeautifulSoup(page_content,'html.parser')\n"
      ],
      "execution_count": 16,
      "outputs": []
    },
    {
      "cell_type": "code",
      "metadata": {
        "id": "OUfORimVpGfR"
      },
      "source": [
        "table = soup.find_all(\"Pos(r)\")\n"
      ],
      "execution_count": 17,
      "outputs": []
    },
    {
      "cell_type": "code",
      "metadata": {
        "colab": {
          "base_uri": "https://localhost:8080/",
          "height": 618
        },
        "id": "F-vWp16PprkN",
        "outputId": "2856d11d-1824-43f6-86b2-6ad7751b2628"
      },
      "source": [
        "yf.download(\"MSFT\",period = \"1mo\",interval = \"15m\")"
      ],
      "execution_count": null,
      "outputs": [
        {
          "output_type": "stream",
          "text": [
            "\r[*********************100%***********************]  1 of 1 completed\n"
          ],
          "name": "stdout"
        },
        {
          "output_type": "execute_result",
          "data": {
            "text/html": [
              "<div>\n",
              "<style scoped>\n",
              "    .dataframe tbody tr th:only-of-type {\n",
              "        vertical-align: middle;\n",
              "    }\n",
              "\n",
              "    .dataframe tbody tr th {\n",
              "        vertical-align: top;\n",
              "    }\n",
              "\n",
              "    .dataframe thead th {\n",
              "        text-align: right;\n",
              "    }\n",
              "</style>\n",
              "<table border=\"1\" class=\"dataframe\">\n",
              "  <thead>\n",
              "    <tr style=\"text-align: right;\">\n",
              "      <th></th>\n",
              "      <th>Open</th>\n",
              "      <th>High</th>\n",
              "      <th>Low</th>\n",
              "      <th>Close</th>\n",
              "      <th>Adj Close</th>\n",
              "      <th>Volume</th>\n",
              "    </tr>\n",
              "    <tr>\n",
              "      <th>Datetime</th>\n",
              "      <th></th>\n",
              "      <th></th>\n",
              "      <th></th>\n",
              "      <th></th>\n",
              "      <th></th>\n",
              "      <th></th>\n",
              "    </tr>\n",
              "  </thead>\n",
              "  <tbody>\n",
              "    <tr>\n",
              "      <th>2020-11-04 09:30:00-05:00</th>\n",
              "      <td>213.679993</td>\n",
              "      <td>215.130005</td>\n",
              "      <td>212.418503</td>\n",
              "      <td>213.645004</td>\n",
              "      <td>213.645004</td>\n",
              "      <td>5261289</td>\n",
              "    </tr>\n",
              "    <tr>\n",
              "      <th>2020-11-04 09:45:00-05:00</th>\n",
              "      <td>213.669998</td>\n",
              "      <td>213.860001</td>\n",
              "      <td>212.440002</td>\n",
              "      <td>213.750000</td>\n",
              "      <td>213.750000</td>\n",
              "      <td>1854684</td>\n",
              "    </tr>\n",
              "    <tr>\n",
              "      <th>2020-11-04 10:00:00-05:00</th>\n",
              "      <td>213.750000</td>\n",
              "      <td>215.550003</td>\n",
              "      <td>213.529999</td>\n",
              "      <td>215.330002</td>\n",
              "      <td>215.330002</td>\n",
              "      <td>2279119</td>\n",
              "    </tr>\n",
              "    <tr>\n",
              "      <th>2020-11-04 10:15:00-05:00</th>\n",
              "      <td>215.339996</td>\n",
              "      <td>216.440002</td>\n",
              "      <td>215.139999</td>\n",
              "      <td>215.625000</td>\n",
              "      <td>215.625000</td>\n",
              "      <td>2098985</td>\n",
              "    </tr>\n",
              "    <tr>\n",
              "      <th>2020-11-04 10:30:00-05:00</th>\n",
              "      <td>215.630005</td>\n",
              "      <td>216.000000</td>\n",
              "      <td>214.970001</td>\n",
              "      <td>215.089996</td>\n",
              "      <td>215.089996</td>\n",
              "      <td>1324884</td>\n",
              "    </tr>\n",
              "    <tr>\n",
              "      <th>...</th>\n",
              "      <td>...</td>\n",
              "      <td>...</td>\n",
              "      <td>...</td>\n",
              "      <td>...</td>\n",
              "      <td>...</td>\n",
              "      <td>...</td>\n",
              "    </tr>\n",
              "    <tr>\n",
              "      <th>2020-12-03 14:45:00-05:00</th>\n",
              "      <td>214.600098</td>\n",
              "      <td>215.050003</td>\n",
              "      <td>214.410004</td>\n",
              "      <td>214.889999</td>\n",
              "      <td>214.889999</td>\n",
              "      <td>521804</td>\n",
              "    </tr>\n",
              "    <tr>\n",
              "      <th>2020-12-03 15:00:00-05:00</th>\n",
              "      <td>214.880005</td>\n",
              "      <td>215.320007</td>\n",
              "      <td>214.789993</td>\n",
              "      <td>215.270004</td>\n",
              "      <td>215.270004</td>\n",
              "      <td>650271</td>\n",
              "    </tr>\n",
              "    <tr>\n",
              "      <th>2020-12-03 15:15:00-05:00</th>\n",
              "      <td>215.259995</td>\n",
              "      <td>215.389999</td>\n",
              "      <td>215.009995</td>\n",
              "      <td>215.147903</td>\n",
              "      <td>215.147903</td>\n",
              "      <td>598504</td>\n",
              "    </tr>\n",
              "    <tr>\n",
              "      <th>2020-12-03 15:30:00-05:00</th>\n",
              "      <td>215.149994</td>\n",
              "      <td>215.199997</td>\n",
              "      <td>214.210098</td>\n",
              "      <td>214.500000</td>\n",
              "      <td>214.500000</td>\n",
              "      <td>800270</td>\n",
              "    </tr>\n",
              "    <tr>\n",
              "      <th>2020-12-03 15:45:00-05:00</th>\n",
              "      <td>214.500000</td>\n",
              "      <td>214.770004</td>\n",
              "      <td>213.649994</td>\n",
              "      <td>214.270004</td>\n",
              "      <td>214.270004</td>\n",
              "      <td>1877557</td>\n",
              "    </tr>\n",
              "  </tbody>\n",
              "</table>\n",
              "<p>535 rows × 6 columns</p>\n",
              "</div>"
            ],
            "text/plain": [
              "                                 Open        High  ...   Adj Close   Volume\n",
              "Datetime                                           ...                     \n",
              "2020-11-04 09:30:00-05:00  213.679993  215.130005  ...  213.645004  5261289\n",
              "2020-11-04 09:45:00-05:00  213.669998  213.860001  ...  213.750000  1854684\n",
              "2020-11-04 10:00:00-05:00  213.750000  215.550003  ...  215.330002  2279119\n",
              "2020-11-04 10:15:00-05:00  215.339996  216.440002  ...  215.625000  2098985\n",
              "2020-11-04 10:30:00-05:00  215.630005  216.000000  ...  215.089996  1324884\n",
              "...                               ...         ...  ...         ...      ...\n",
              "2020-12-03 14:45:00-05:00  214.600098  215.050003  ...  214.889999   521804\n",
              "2020-12-03 15:00:00-05:00  214.880005  215.320007  ...  215.270004   650271\n",
              "2020-12-03 15:15:00-05:00  215.259995  215.389999  ...  215.147903   598504\n",
              "2020-12-03 15:30:00-05:00  215.149994  215.199997  ...  214.500000   800270\n",
              "2020-12-03 15:45:00-05:00  214.500000  214.770004  ...  214.270004  1877557\n",
              "\n",
              "[535 rows x 6 columns]"
            ]
          },
          "metadata": {
            "tags": []
          },
          "execution_count": 5
        }
      ]
    },
    {
      "cell_type": "code",
      "metadata": {
        "colab": {
          "base_uri": "https://localhost:8080/"
        },
        "id": "LDUix1F5KBig",
        "outputId": "0d5504c9-436d-415c-c38f-df22b6f04160"
      },
      "source": [
        "stocks =  [\"AMZN\",\"MSFT\",\"GOOG\"]\n",
        "start = dt.datetime.today()-dt.timedelta(300)\n",
        "end = dt.datetime.today()\n",
        "cl_price = pd.DataFrame()\n",
        "for ticker in stocks:\n",
        "  cl_price[ticker]=yf.download(ticker,start,end)[\"Adj Close\"]\n"
      ],
      "execution_count": 61,
      "outputs": [
        {
          "output_type": "stream",
          "text": [
            "[*********************100%***********************]  1 of 1 completed\n",
            "[*********************100%***********************]  1 of 1 completed\n",
            "[*********************100%***********************]  1 of 1 completed\n"
          ],
          "name": "stdout"
        }
      ]
    },
    {
      "cell_type": "code",
      "metadata": {
        "colab": {
          "base_uri": "https://localhost:8080/"
        },
        "id": "BbwZ4p4oNdI-",
        "outputId": "48477a81-6746-4c81-d610-dce61edd1888"
      },
      "source": [
        "ohlcv_data = {}\n",
        "for ticker in stocks :\n",
        "  ohlcv_data[ticker] = yf.download(ticker,start,end)"
      ],
      "execution_count": null,
      "outputs": [
        {
          "output_type": "stream",
          "text": [
            "[*********************100%***********************]  1 of 1 completed\n",
            "[*********************100%***********************]  1 of 1 completed\n",
            "[*********************100%***********************]  1 of 1 completed\n"
          ],
          "name": "stdout"
        }
      ]
    },
    {
      "cell_type": "code",
      "metadata": {
        "colab": {
          "base_uri": "https://localhost:8080/"
        },
        "id": "RXBu0Zx8Om58",
        "outputId": "836bb0e2-60fd-41ba-8337-d75d39bff8a4"
      },
      "source": [
        "ohlcv_data[\"MSFT\"][\"Adj Close\"]"
      ],
      "execution_count": 25,
      "outputs": [
        {
          "output_type": "execute_result",
          "data": {
            "text/plain": [
              "Date\n",
              "2020-11-04    215.824951\n",
              "2020-11-05    222.706940\n",
              "2020-11-06    223.135818\n",
              "2020-11-09    217.819733\n",
              "2020-11-10    210.459000\n",
              "2020-11-11    215.984543\n",
              "2020-11-12    214.877441\n",
              "2020-11-13    215.944641\n",
              "2020-11-16    216.662766\n",
              "2020-11-17    213.900009\n",
              "2020-11-18    211.080002\n",
              "2020-11-19    212.419998\n",
              "2020-11-20    210.389999\n",
              "2020-11-23    210.110001\n",
              "2020-11-24    213.860001\n",
              "2020-11-25    213.869995\n",
              "2020-11-27    215.229996\n",
              "2020-11-30    214.070007\n",
              "2020-12-01    216.210007\n",
              "2020-12-02    215.369995\n",
              "2020-12-03    214.240005\n",
              "Name: Adj Close, dtype: float64"
            ]
          },
          "metadata": {
            "tags": []
          },
          "execution_count": 25
        }
      ]
    },
    {
      "cell_type": "code",
      "metadata": {
        "id": "lQS4oBMJOm9M"
      },
      "source": [
        "cl_price.fillna(method='bfill',axis=0,inplace =True)\n",
        "#cl_price.dropna(axis=0,how='any')\n",
        "#axis =0 for column,axis =1 for rows\n"
      ],
      "execution_count": 31,
      "outputs": []
    },
    {
      "cell_type": "code",
      "metadata": {
        "id": "VyiN2PCKkT8K"
      },
      "source": [
        "#cl_price.mean()\n"
      ],
      "execution_count": 46,
      "outputs": []
    },
    {
      "cell_type": "code",
      "metadata": {
        "id": "1dJ23xCIlOuc"
      },
      "source": [
        "daily_returns = cl_price.pct_change()\n"
      ],
      "execution_count": 45,
      "outputs": []
    },
    {
      "cell_type": "code",
      "metadata": {
        "id": "P5C9Y3Ptmk6E"
      },
      "source": [
        "pct_return=(cl_price /cl_price.shift(1))-1\n",
        "#shift command takes 1 value up"
      ],
      "execution_count": 44,
      "outputs": []
    },
    {
      "cell_type": "code",
      "metadata": {
        "colab": {
          "base_uri": "https://localhost:8080/",
          "height": 710
        },
        "id": "2Grqnyqwn3sE",
        "outputId": "2940ced1-1e36-49f2-bdfa-d62efcb809e9"
      },
      "source": [
        "#daily_returns.rolling(window=10,min_periods = 1).mean()\n",
        "daily_returns.ewm(span=10,min_periods=10).mean()"
      ],
      "execution_count": 59,
      "outputs": [
        {
          "output_type": "execute_result",
          "data": {
            "text/html": [
              "<div>\n",
              "<style scoped>\n",
              "    .dataframe tbody tr th:only-of-type {\n",
              "        vertical-align: middle;\n",
              "    }\n",
              "\n",
              "    .dataframe tbody tr th {\n",
              "        vertical-align: top;\n",
              "    }\n",
              "\n",
              "    .dataframe thead th {\n",
              "        text-align: right;\n",
              "    }\n",
              "</style>\n",
              "<table border=\"1\" class=\"dataframe\">\n",
              "  <thead>\n",
              "    <tr style=\"text-align: right;\">\n",
              "      <th></th>\n",
              "      <th>AMZN</th>\n",
              "      <th>MSFT</th>\n",
              "      <th>GOOG</th>\n",
              "    </tr>\n",
              "    <tr>\n",
              "      <th>Date</th>\n",
              "      <th></th>\n",
              "      <th></th>\n",
              "      <th></th>\n",
              "    </tr>\n",
              "  </thead>\n",
              "  <tbody>\n",
              "    <tr>\n",
              "      <th>2020-11-04</th>\n",
              "      <td>NaN</td>\n",
              "      <td>NaN</td>\n",
              "      <td>NaN</td>\n",
              "    </tr>\n",
              "    <tr>\n",
              "      <th>2020-11-05</th>\n",
              "      <td>NaN</td>\n",
              "      <td>NaN</td>\n",
              "      <td>NaN</td>\n",
              "    </tr>\n",
              "    <tr>\n",
              "      <th>2020-11-06</th>\n",
              "      <td>NaN</td>\n",
              "      <td>NaN</td>\n",
              "      <td>NaN</td>\n",
              "    </tr>\n",
              "    <tr>\n",
              "      <th>2020-11-09</th>\n",
              "      <td>NaN</td>\n",
              "      <td>NaN</td>\n",
              "      <td>NaN</td>\n",
              "    </tr>\n",
              "    <tr>\n",
              "      <th>2020-11-10</th>\n",
              "      <td>NaN</td>\n",
              "      <td>NaN</td>\n",
              "      <td>NaN</td>\n",
              "    </tr>\n",
              "    <tr>\n",
              "      <th>2020-11-11</th>\n",
              "      <td>NaN</td>\n",
              "      <td>NaN</td>\n",
              "      <td>NaN</td>\n",
              "    </tr>\n",
              "    <tr>\n",
              "      <th>2020-11-12</th>\n",
              "      <td>NaN</td>\n",
              "      <td>NaN</td>\n",
              "      <td>NaN</td>\n",
              "    </tr>\n",
              "    <tr>\n",
              "      <th>2020-11-13</th>\n",
              "      <td>NaN</td>\n",
              "      <td>NaN</td>\n",
              "      <td>NaN</td>\n",
              "    </tr>\n",
              "    <tr>\n",
              "      <th>2020-11-16</th>\n",
              "      <td>NaN</td>\n",
              "      <td>NaN</td>\n",
              "      <td>NaN</td>\n",
              "    </tr>\n",
              "    <tr>\n",
              "      <th>2020-11-17</th>\n",
              "      <td>NaN</td>\n",
              "      <td>NaN</td>\n",
              "      <td>NaN</td>\n",
              "    </tr>\n",
              "    <tr>\n",
              "      <th>2020-11-18</th>\n",
              "      <td>-0.003263</td>\n",
              "      <td>-0.004558</td>\n",
              "      <td>-0.001863</td>\n",
              "    </tr>\n",
              "    <tr>\n",
              "      <th>2020-11-19</th>\n",
              "      <td>-0.001836</td>\n",
              "      <td>-0.002330</td>\n",
              "      <td>0.000522</td>\n",
              "    </tr>\n",
              "    <tr>\n",
              "      <th>2020-11-20</th>\n",
              "      <td>-0.002599</td>\n",
              "      <td>-0.003774</td>\n",
              "      <td>-0.002043</td>\n",
              "    </tr>\n",
              "    <tr>\n",
              "      <th>2020-11-23</th>\n",
              "      <td>-0.002152</td>\n",
              "      <td>-0.003294</td>\n",
              "      <td>-0.002468</td>\n",
              "    </tr>\n",
              "    <tr>\n",
              "      <th>2020-11-24</th>\n",
              "      <td>-0.000508</td>\n",
              "      <td>0.000796</td>\n",
              "      <td>0.001803</td>\n",
              "    </tr>\n",
              "    <tr>\n",
              "      <th>2020-11-25</th>\n",
              "      <td>0.003699</td>\n",
              "      <td>0.000653</td>\n",
              "      <td>0.001734</td>\n",
              "    </tr>\n",
              "    <tr>\n",
              "      <th>2020-11-27</th>\n",
              "      <td>0.003609</td>\n",
              "      <td>0.001734</td>\n",
              "      <td>0.003733</td>\n",
              "    </tr>\n",
              "    <tr>\n",
              "      <th>2020-11-30</th>\n",
              "      <td>0.001324</td>\n",
              "      <td>0.000394</td>\n",
              "      <td>-0.000371</td>\n",
              "    </tr>\n",
              "    <tr>\n",
              "      <th>2020-12-01</th>\n",
              "      <td>0.004146</td>\n",
              "      <td>0.002189</td>\n",
              "      <td>0.003663</td>\n",
              "    </tr>\n",
              "    <tr>\n",
              "      <th>2020-12-02</th>\n",
              "      <td>0.002420</td>\n",
              "      <td>0.001059</td>\n",
              "      <td>0.006068</td>\n",
              "    </tr>\n",
              "    <tr>\n",
              "      <th>2020-12-03</th>\n",
              "      <td>0.001001</td>\n",
              "      <td>-0.000108</td>\n",
              "      <td>0.004825</td>\n",
              "    </tr>\n",
              "  </tbody>\n",
              "</table>\n",
              "</div>"
            ],
            "text/plain": [
              "                AMZN      MSFT      GOOG\n",
              "Date                                    \n",
              "2020-11-04       NaN       NaN       NaN\n",
              "2020-11-05       NaN       NaN       NaN\n",
              "2020-11-06       NaN       NaN       NaN\n",
              "2020-11-09       NaN       NaN       NaN\n",
              "2020-11-10       NaN       NaN       NaN\n",
              "2020-11-11       NaN       NaN       NaN\n",
              "2020-11-12       NaN       NaN       NaN\n",
              "2020-11-13       NaN       NaN       NaN\n",
              "2020-11-16       NaN       NaN       NaN\n",
              "2020-11-17       NaN       NaN       NaN\n",
              "2020-11-18 -0.003263 -0.004558 -0.001863\n",
              "2020-11-19 -0.001836 -0.002330  0.000522\n",
              "2020-11-20 -0.002599 -0.003774 -0.002043\n",
              "2020-11-23 -0.002152 -0.003294 -0.002468\n",
              "2020-11-24 -0.000508  0.000796  0.001803\n",
              "2020-11-25  0.003699  0.000653  0.001734\n",
              "2020-11-27  0.003609  0.001734  0.003733\n",
              "2020-11-30  0.001324  0.000394 -0.000371\n",
              "2020-12-01  0.004146  0.002189  0.003663\n",
              "2020-12-02  0.002420  0.001059  0.006068\n",
              "2020-12-03  0.001001 -0.000108  0.004825"
            ]
          },
          "metadata": {
            "tags": []
          },
          "execution_count": 59
        }
      ]
    },
    {
      "cell_type": "code",
      "metadata": {
        "colab": {
          "base_uri": "https://localhost:8080/",
          "height": 294
        },
        "id": "jXVwgs8NrRBR",
        "outputId": "66333dd9-8f54-4c54-9d01-b8e1ee620490"
      },
      "source": [
        "cl_price.plot()"
      ],
      "execution_count": 65,
      "outputs": [
        {
          "output_type": "execute_result",
          "data": {
            "text/plain": [
              "<matplotlib.axes._subplots.AxesSubplot at 0x7f7e77094160>"
            ]
          },
          "metadata": {
            "tags": []
          },
          "execution_count": 65
        },
        {
          "output_type": "display_data",
          "data": {
            "image/png": "[encoded data removed]",
            "text/plain": [
              "<Figure size 432x288 with 1 Axes>"
            ]
          },
          "metadata": {
            "tags": [],
            "needs_background": "light"
          }
        }
      ]
    },
    {
      "cell_type": "code",
      "metadata": {
        "colab": {
          "base_uri": "https://localhost:8080/",
          "height": 375
        },
        "id": "eBblrmn6tAY_",
        "outputId": "adbd4a13-94df-4259-b6f6-a2bbdfdd2c53"
      },
      "source": [
        "cl_price.plot(subplots=True,layout=(3,1),title =\"Tech Stock Price\",grid=True)"
      ],
      "execution_count": 67,
      "outputs": [
        {
          "output_type": "execute_result",
          "data": {
            "text/plain": [
              "array([[<matplotlib.axes._subplots.AxesSubplot object at 0x7f7e77199e48>],\n",
              "       [<matplotlib.axes._subplots.AxesSubplot object at 0x7f7e77107198>],\n",
              "       [<matplotlib.axes._subplots.AxesSubplot object at 0x7f7e76e8ba20>]],\n",
              "      dtype=object)"
            ]
          },
          "metadata": {
            "tags": []
          },
          "execution_count": 67
        },
        {
          "output_type": "display_data",
          "data": {
            "image/png": "[encoded data removed]",
            "text/plain": [
              "<Figure size 432x288 with 3 Axes>"
            ]
          },
          "metadata": {
            "tags": [],
            "needs_background": "light"
          }
        }
      ]
    },
    {
      "cell_type": "code",
      "metadata": {
        "colab": {
          "base_uri": "https://localhost:8080/",
          "height": 294
        },
        "id": "WKMKNK-FsCaC",
        "outputId": "651d3c9f-2b48-4809-ecd0-189fc5ac7e30"
      },
      "source": [
        "cp_std = (cl_price-cl_price.mean())/cl_price.std()\n",
        "cp_std.plot()"
      ],
      "execution_count": 64,
      "outputs": [
        {
          "output_type": "execute_result",
          "data": {
            "text/plain": [
              "<matplotlib.axes._subplots.AxesSubplot at 0x7f7e7e9dbcc0>"
            ]
          },
          "metadata": {
            "tags": []
          },
          "execution_count": 64
        },
        {
          "output_type": "display_data",
          "data": {
            "image/png": "[encoded data removed]",
            "text/plain": [
              "<Figure size 432x288 with 1 Axes>"
            ]
          },
          "metadata": {
            "tags": [],
            "needs_background": "light"
          }
        }
      ]
    }
  ]
}