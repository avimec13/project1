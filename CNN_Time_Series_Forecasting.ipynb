{
  "nbformat": 4,
  "nbformat_minor": 0,
  "metadata": {
    "colab": {
      "name": "CNN_Time_Series_Forecasting.ipynb",
      "provenance": [],
      "toc_visible": true,
      "authorship_tag": "ABX9TyNIExszQBTDjeYgUgeucUxc",
      "include_colab_link": true
    },
    "kernelspec": {
      "name": "python3",
      "display_name": "Python 3"
    },
    "language_info": {
      "name": "python"
    }
  },
  "cells": [
    {
      "cell_type": "markdown",
      "metadata": {
        "id": "view-in-github",
        "colab_type": "text"
      },
      "source": [
        "<a href=\"https://colab.research.google.com/github/avimec13/project1/blob/master/CNN_Time_Series_Forecasting.ipynb\" target=\"_parent\"><img src=\"https://colab.research.google.com/assets/colab-badge.svg\" alt=\"Open In Colab\"/></a>"
      ]
    },
    {
      "cell_type": "markdown",
      "metadata": {
        "id": "27isqteImUWU"
      },
      "source": [
        "Single Step Convolutional Nueral Network"
      ]
    },
    {
      "cell_type": "markdown",
      "metadata": {
        "id": "nfuu-v7VKXRZ"
      },
      "source": [
        "# CNN Time Series Forecasting"
      ]
    },
    {
      "cell_type": "code",
      "metadata": {
        "id": "D6k8xtgIldjV"
      },
      "source": [
        "#Importing Libraries\n",
        "from numpy import array\n",
        "from keras.models import Sequential\n",
        "from keras.layers import Dense\n",
        "from keras.layers import Flatten\n",
        "from keras.layers.convolutional import Conv1D\n",
        "from keras.layers.convolutional import MaxPooling1D"
      ],
      "execution_count": 41,
      "outputs": []
    },
    {
      "cell_type": "code",
      "metadata": {
        "id": "GC7FdycflpVx"
      },
      "source": [
        "# split a univariate sequence into samples\n",
        "def split_sequence(sequence, steps):\n",
        "  X, y = list(), list()\n",
        "  for start in range(len(sequence)):\n",
        "    # define the end index of the sequence\n",
        "    end_index = start + steps\n",
        "    # to check if end_index stays in the allowable limit\n",
        "    if end_index > len(sequence)-1:\n",
        "      break\n",
        "    # extract input and output parts of the sequence\n",
        "    sequence_x, sequence_y = sequence[start : end_index], sequence[end_index]\n",
        "    X.append(sequence_x)\n",
        "    y.append(sequence_y)\n",
        "  return array(X), array(y)"
      ],
      "execution_count": 43,
      "outputs": []
    },
    {
      "cell_type": "code",
      "metadata": {
        "colab": {
          "base_uri": "https://localhost:8080/"
        },
        "id": "XtwpUoE2I-0P",
        "outputId": "672d6701-ea8d-41b6-f754-475c2f547b8b"
      },
      "source": [
        "raw_sequence = [100, 110, 120, 130, 140, 150 ,160, 170, 180 ,190]\n",
        "\n",
        "# choose a number of time steps\n",
        "steps = 3\n",
        "\n",
        "# split into samples\n",
        "X, y = split_sequence(raw_sequence, steps)\n",
        "\n",
        "print(\"**************************************************************\")\n",
        "print(\"The input raw sequence on which we will test our CNN model\")\n",
        "print(raw_sequence)\n",
        "print(\"**************************************************************\")\n",
        "print(\"The features (X) ,lagged values of time series, for our CNN model\")\n",
        "print(X)\n",
        "print(\"**************************************************************\")\n",
        "print(\"The respective observed values (y) of the sequence for training in CNN model\")\n",
        "print(y)\n",
        "print(\"**************************************************************\")"
      ],
      "execution_count": 44,
      "outputs": [
        {
          "output_type": "stream",
          "text": [
            "**************************************************************\n",
            "The input raw sequence on which we will test our CNN model\n",
            "[100, 110, 120, 130, 140, 150, 160, 170, 180, 190]\n",
            "**************************************************************\n",
            "The features (X) ,lagged values of time series, for our CNN model\n",
            "[[100 110 120]\n",
            " [110 120 130]\n",
            " [120 130 140]\n",
            " [130 140 150]\n",
            " [140 150 160]\n",
            " [150 160 170]\n",
            " [160 170 180]]\n",
            "**************************************************************\n",
            "The respective observed values (y) of the sequence for training in CNN model\n",
            "[130 140 150 160 170 180 190]\n",
            "**************************************************************\n"
          ],
          "name": "stdout"
        }
      ]
    },
    {
      "cell_type": "code",
      "metadata": {
        "colab": {
          "base_uri": "https://localhost:8080/"
        },
        "id": "POAMQ03AJHRJ",
        "outputId": "4ba97273-0683-420b-9307-9c3cf4e7b417"
      },
      "source": [
        "# reshape 2D input data to 3D input data\n",
        "features = 1\n",
        "X = X.reshape((X.shape[0], X.shape[1], features))\n",
        "\n",
        "print(\"After reshaping , the shape of input X\")\n",
        "print(X.shape)\n",
        "print(\"**************************************************************\")\n",
        "print(\"**************************************************************\")\n",
        "print(\"The final form of input feature matrix X\")\n",
        "print(X)\n",
        "print(\"**************************************************************\")\n",
        "print(\"**************************************************************\")\n",
        "print(\"Feature matrix X is ready for input to CNN model.We have used feature engineering\" \n",
        "    +\"to convert a sequence to matrix with image matrix shape to find patterns in sequence\")\n",
        "print(\"**************************************************************\")"
      ],
      "execution_count": 45,
      "outputs": [
        {
          "output_type": "stream",
          "text": [
            "After reshaping , the shape of input X\n",
            "(7, 3, 1)\n",
            "**************************************************************\n",
            "**************************************************************\n",
            "The final form of input feature matrix X\n",
            "[[[100]\n",
            "  [110]\n",
            "  [120]]\n",
            "\n",
            " [[110]\n",
            "  [120]\n",
            "  [130]]\n",
            "\n",
            " [[120]\n",
            "  [130]\n",
            "  [140]]\n",
            "\n",
            " [[130]\n",
            "  [140]\n",
            "  [150]]\n",
            "\n",
            " [[140]\n",
            "  [150]\n",
            "  [160]]\n",
            "\n",
            " [[150]\n",
            "  [160]\n",
            "  [170]]\n",
            "\n",
            " [[160]\n",
            "  [170]\n",
            "  [180]]]\n",
            "**************************************************************\n",
            "**************************************************************\n",
            "Feature matrix X is ready for input to CNN model.We have used feature engineeringto convert a sequence to matrix with image matrix shape to find patterns in sequence\n",
            "**************************************************************\n"
          ],
          "name": "stdout"
        }
      ]
    },
    {
      "cell_type": "code",
      "metadata": {
        "id": "pKovhL5gJiIc"
      },
      "source": [
        "# Defining model Architecture\n",
        "model = Sequential()\n",
        "model.add(Conv1D(filters=64, kernel_size=2, activation='relu', input_shape=(steps,\n",
        "features)))\n",
        "model.add(MaxPooling1D(pool_size=2))\n",
        "model.add(Flatten())\n",
        "model.add(Dense(100, activation='relu'))\n",
        "model.add(Dense(1))\n",
        "model.compile(optimizer='adam', loss='mse')"
      ],
      "execution_count": 46,
      "outputs": []
    },
    {
      "cell_type": "code",
      "metadata": {
        "colab": {
          "base_uri": "https://localhost:8080/"
        },
        "id": "2Z7UjfXjJnHp",
        "outputId": "9f8d9ef5-00c7-474f-8c72-cefbbd4d8e84"
      },
      "source": [
        "# fit model\n",
        "model.fit(X, y, epochs=10000, verbose=0)"
      ],
      "execution_count": 47,
      "outputs": [
        {
          "output_type": "execute_result",
          "data": {
            "text/plain": [
              "<keras.callbacks.History at 0x7f2cbcacf7d0>"
            ]
          },
          "metadata": {
            "tags": []
          },
          "execution_count": 47
        }
      ]
    },
    {
      "cell_type": "code",
      "metadata": {
        "colab": {
          "base_uri": "https://localhost:8080/"
        },
        "id": "eoE8PDtzJs-n",
        "outputId": "9c74db06-a124-47c5-cd80-5c73fd35ded7"
      },
      "source": [
        "#Testing the Model\n",
        "x_input = array([ 170, 180, 190 ])\n",
        "x_input = x_input.reshape((1, steps, features))\n",
        "y_pred = model.predict(x_input, verbose=0)\n",
        "print(\"**************************************************************\")\n",
        "print(f\"The next predicted value for the sequence {raw_sequence} is\")\n",
        "print(y_pred)\n",
        "print(\"**************************************************************\")\n",
        "\n"
      ],
      "execution_count": 49,
      "outputs": [
        {
          "output_type": "stream",
          "text": [
            "**************************************************************\n",
            "The next predicted value for the sequence [100, 110, 120, 130, 140, 150, 160, 170, 180, 190] is\n",
            "[[200.31905]]\n",
            "**************************************************************\n"
          ],
          "name": "stdout"
        }
      ]
    },
    {
      "cell_type": "markdown",
      "metadata": {
        "id": "v810oPtyq7SC"
      },
      "source": [
        "Multi-step Convolutional 1D Model "
      ]
    },
    {
      "cell_type": "code",
      "metadata": {
        "colab": {
          "base_uri": "https://localhost:8080/"
        },
        "id": "0FmhOeBHq7Au",
        "outputId": "4ea55449-4f37-439f-8faa-47c4fa433379"
      },
      "source": [
        "# univariate multi-step vector-output 1d cnn example\n",
        "from numpy import array\n",
        "from keras.models import Sequential\n",
        "from keras.layers import Dense\n",
        "from keras.layers import Flatten\n",
        "from keras.layers.convolutional import Conv1D\n",
        "from keras.layers.convolutional import MaxPooling1D\n",
        "\n",
        "# split a univariate sequence into samples\n",
        "def split_sequence(sequence, n_steps_in, n_steps_out):\n",
        "  X, y = list(), list()\n",
        "  for i in range(len(sequence)):\n",
        "    # find the end of this pattern\n",
        "    end_ix = i + n_steps_in\n",
        "    out_end_ix = end_ix + n_steps_out\n",
        "    # check if we are beyond the sequence\n",
        "    if out_end_ix > len(sequence):\n",
        "      break\n",
        "    # gather input and output parts of the pattern\n",
        "    seq_x, seq_y = sequence[i:end_ix], sequence[end_ix:out_end_ix]\n",
        "    X.append(seq_x)\n",
        "    y.append(seq_y)\n",
        "  return array(X), array(y)\n",
        "\n",
        "# define input sequence\n",
        "raw_seq = [10, 20, 30, 40, 50, 60, 70, 80, 90]\n",
        "\n",
        "# choose a number of time steps\n",
        "n_steps_in, n_steps_out = 3, 2\n",
        "\n",
        "# split into samples\n",
        "X, y = split_sequence(raw_seq, n_steps_in, n_steps_out)\n",
        "\n",
        "# reshape from [samples, timesteps] into [samples, timesteps, features]\n",
        "n_features = 1\n",
        "X = X.reshape((X.shape[0], X.shape[1], n_features))\n",
        "\n",
        "# define model\n",
        "model = Sequential()\n",
        "model.add(Conv1D(filters=64, kernel_size=2, activation='relu', input_shape=(n_steps_in,\n",
        "n_features)))\n",
        "model.add(MaxPooling1D(pool_size=2))\n",
        "model.add(Flatten())\n",
        "model.add(Dense(105, activation='relu'))\n",
        "model.add(Dense(n_steps_out))\n",
        "model.compile(optimizer='adam', loss='mse')\n",
        "\n",
        "# fit model\n",
        "model.fit(X, y, epochs=7000, verbose=0)\n",
        "\n",
        "# demonstrate prediction\n",
        "x_input = array([ 70,80, 90 ])\n",
        "x_input = x_input.reshape((1, n_steps_in, n_features))\n",
        "yhat = model.predict(x_input, verbose=0)\n",
        "print(yhat)\n",
        "\n"
      ],
      "execution_count": 50,
      "outputs": [
        {
          "output_type": "stream",
          "text": [
            "WARNING:tensorflow:5 out of the last 9 calls to <function Model.make_predict_function.<locals>.predict_function at 0x7f2cbb1004d0> triggered tf.function retracing. Tracing is expensive and the excessive number of tracings could be due to (1) creating @tf.function repeatedly in a loop, (2) passing tensors with different shapes, (3) passing Python objects instead of tensors. For (1), please define your @tf.function outside of the loop. For (2), @tf.function has experimental_relax_shapes=True option that relaxes argument shapes that can avoid unnecessary retracing. For (3), please refer to https://www.tensorflow.org/guide/function#controlling_retracing and https://www.tensorflow.org/api_docs/python/tf/function for  more details.\n",
            "[[104.11041 116.68879]]\n"
          ],
          "name": "stdout"
        }
      ]
    }
  ]
}